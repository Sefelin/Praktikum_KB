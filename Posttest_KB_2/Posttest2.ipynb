{
 "cells": [
  {
   "cell_type": "markdown",
   "metadata": {},
   "source": [
    "# Posttest 2 Nada\n",
    "2009106074"
   ]
  },
  {
   "cell_type": "markdown",
   "metadata": {},
   "source": [
    "### Import Pandas Package"
   ]
  },
  {
   "cell_type": "code",
   "execution_count": 14,
   "metadata": {},
   "outputs": [],
   "source": [
    "import pandas as pd"
   ]
  },
  {
   "cell_type": "markdown",
   "metadata": {},
   "source": [
    "### Read Dataset"
   ]
  },
  {
   "cell_type": "code",
   "execution_count": 15,
   "metadata": {},
   "outputs": [],
   "source": [
    "df = pd.read_csv(\"Pizza_hut_locations.csv\")"
   ]
  },
  {
   "cell_type": "code",
   "execution_count": 16,
   "metadata": {},
   "outputs": [
    {
     "data": {
      "text/html": [
       "<div>\n",
       "<style scoped>\n",
       "    .dataframe tbody tr th:only-of-type {\n",
       "        vertical-align: middle;\n",
       "    }\n",
       "\n",
       "    .dataframe tbody tr th {\n",
       "        vertical-align: top;\n",
       "    }\n",
       "\n",
       "    .dataframe thead th {\n",
       "        text-align: right;\n",
       "    }\n",
       "</style>\n",
       "<table border=\"1\" class=\"dataframe\">\n",
       "  <thead>\n",
       "    <tr style=\"text-align: right;\">\n",
       "      <th></th>\n",
       "      <th>type</th>\n",
       "      <th>address_1</th>\n",
       "      <th>address_2</th>\n",
       "      <th>open_hours</th>\n",
       "      <th>city</th>\n",
       "      <th>state</th>\n",
       "      <th>postal_code</th>\n",
       "      <th>latitude</th>\n",
       "      <th>longitude</th>\n",
       "    </tr>\n",
       "  </thead>\n",
       "  <tbody>\n",
       "    <tr>\n",
       "      <th>0</th>\n",
       "      <td>Pizza Hut Express</td>\n",
       "      <td>1200 N. Muldoon Road</td>\n",
       "      <td>NaN</td>\n",
       "      <td>10:00 AM - 11:00 PM</td>\n",
       "      <td>Anchorage</td>\n",
       "      <td>AK</td>\n",
       "      <td>99504</td>\n",
       "      <td>61.2037</td>\n",
       "      <td>-149.7447</td>\n",
       "    </tr>\n",
       "    <tr>\n",
       "      <th>1</th>\n",
       "      <td>Pizza Hut Express</td>\n",
       "      <td>150 West 100th Ave</td>\n",
       "      <td>Suite A</td>\n",
       "      <td>10:00 AM - 11:00 PM</td>\n",
       "      <td>Anchorage</td>\n",
       "      <td>AK</td>\n",
       "      <td>99515</td>\n",
       "      <td>61.1194</td>\n",
       "      <td>-149.8974</td>\n",
       "    </tr>\n",
       "    <tr>\n",
       "      <th>2</th>\n",
       "      <td>Pizza Hut</td>\n",
       "      <td>2220 Abbott Rd</td>\n",
       "      <td>NaN</td>\n",
       "      <td>10:00 AM - 11:00 PM</td>\n",
       "      <td>Anchorage</td>\n",
       "      <td>AK</td>\n",
       "      <td>99507</td>\n",
       "      <td>61.1535</td>\n",
       "      <td>-149.8289</td>\n",
       "    </tr>\n",
       "    <tr>\n",
       "      <th>3</th>\n",
       "      <td>Pizza Hut</td>\n",
       "      <td>341 Boniface Pkwy</td>\n",
       "      <td>Unit G</td>\n",
       "      <td>10:00 AM - 12:00 AM</td>\n",
       "      <td>Anchorage</td>\n",
       "      <td>AK</td>\n",
       "      <td>99504</td>\n",
       "      <td>61.2037</td>\n",
       "      <td>-149.7447</td>\n",
       "    </tr>\n",
       "    <tr>\n",
       "      <th>4</th>\n",
       "      <td>Pizza Hut</td>\n",
       "      <td>3727 Spenard Highway</td>\n",
       "      <td>NaN</td>\n",
       "      <td>10:00 AM - 12:00 AM</td>\n",
       "      <td>Anchorage</td>\n",
       "      <td>AK</td>\n",
       "      <td>99517</td>\n",
       "      <td>61.1901</td>\n",
       "      <td>-149.9361</td>\n",
       "    </tr>\n",
       "    <tr>\n",
       "      <th>...</th>\n",
       "      <td>...</td>\n",
       "      <td>...</td>\n",
       "      <td>...</td>\n",
       "      <td>...</td>\n",
       "      <td>...</td>\n",
       "      <td>...</td>\n",
       "      <td>...</td>\n",
       "      <td>...</td>\n",
       "      <td>...</td>\n",
       "    </tr>\n",
       "    <tr>\n",
       "      <th>1996</th>\n",
       "      <td>Pizza Hut</td>\n",
       "      <td>8849 S Stony Island Ave</td>\n",
       "      <td>NaN</td>\n",
       "      <td>10:00 AM - 11:00 PM</td>\n",
       "      <td>Chicago</td>\n",
       "      <td>IL</td>\n",
       "      <td>60617</td>\n",
       "      <td>41.7257</td>\n",
       "      <td>-87.5560</td>\n",
       "    </tr>\n",
       "    <tr>\n",
       "      <th>1997</th>\n",
       "      <td>Pizza Hut</td>\n",
       "      <td>420 N 4th Street</td>\n",
       "      <td>Suite F</td>\n",
       "      <td>10:00 AM - 11:00 PM</td>\n",
       "      <td>Chillicothe</td>\n",
       "      <td>IL</td>\n",
       "      <td>61523</td>\n",
       "      <td>40.9013</td>\n",
       "      <td>-89.5068</td>\n",
       "    </tr>\n",
       "    <tr>\n",
       "      <th>1998</th>\n",
       "      <td>Pizza Hut Express</td>\n",
       "      <td>2901 South Cicero Avenue</td>\n",
       "      <td>NaN</td>\n",
       "      <td>NaN</td>\n",
       "      <td>Cicero</td>\n",
       "      <td>IL</td>\n",
       "      <td>60804</td>\n",
       "      <td>41.8378</td>\n",
       "      <td>-87.7602</td>\n",
       "    </tr>\n",
       "    <tr>\n",
       "      <th>1999</th>\n",
       "      <td>Pizza Hut</td>\n",
       "      <td>5020 W Cermak Rd</td>\n",
       "      <td>NaN</td>\n",
       "      <td>11:00 AM - 11:00 PM</td>\n",
       "      <td>Cicero</td>\n",
       "      <td>IL</td>\n",
       "      <td>60804</td>\n",
       "      <td>41.8378</td>\n",
       "      <td>-87.7602</td>\n",
       "    </tr>\n",
       "    <tr>\n",
       "      <th>2000</th>\n",
       "      <td>Pizza Hut</td>\n",
       "      <td>608 N Bluff Rd</td>\n",
       "      <td>NaN</td>\n",
       "      <td>10:30 AM - 11:00 PM</td>\n",
       "      <td>Collinsville</td>\n",
       "      <td>IL</td>\n",
       "      <td>62234</td>\n",
       "      <td>38.6835</td>\n",
       "      <td>-89.9853</td>\n",
       "    </tr>\n",
       "  </tbody>\n",
       "</table>\n",
       "<p>2001 rows × 9 columns</p>\n",
       "</div>"
      ],
      "text/plain": [
       "                   type                 address_1 address_2  \\\n",
       "0     Pizza Hut Express      1200 N. Muldoon Road       NaN   \n",
       "1     Pizza Hut Express        150 West 100th Ave   Suite A   \n",
       "2             Pizza Hut            2220 Abbott Rd       NaN   \n",
       "3             Pizza Hut         341 Boniface Pkwy    Unit G   \n",
       "4             Pizza Hut      3727 Spenard Highway       NaN   \n",
       "...                 ...                       ...       ...   \n",
       "1996          Pizza Hut   8849 S Stony Island Ave       NaN   \n",
       "1997          Pizza Hut          420 N 4th Street   Suite F   \n",
       "1998  Pizza Hut Express  2901 South Cicero Avenue       NaN   \n",
       "1999          Pizza Hut          5020 W Cermak Rd       NaN   \n",
       "2000          Pizza Hut            608 N Bluff Rd       NaN   \n",
       "\n",
       "               open_hours          city state  postal_code  latitude  \\\n",
       "0     10:00 AM - 11:00 PM     Anchorage    AK        99504   61.2037   \n",
       "1     10:00 AM - 11:00 PM     Anchorage    AK        99515   61.1194   \n",
       "2     10:00 AM - 11:00 PM     Anchorage    AK        99507   61.1535   \n",
       "3     10:00 AM - 12:00 AM     Anchorage    AK        99504   61.2037   \n",
       "4     10:00 AM - 12:00 AM     Anchorage    AK        99517   61.1901   \n",
       "...                   ...           ...   ...          ...       ...   \n",
       "1996  10:00 AM - 11:00 PM       Chicago    IL        60617   41.7257   \n",
       "1997  10:00 AM - 11:00 PM   Chillicothe    IL        61523   40.9013   \n",
       "1998                  NaN        Cicero    IL        60804   41.8378   \n",
       "1999  11:00 AM - 11:00 PM        Cicero    IL        60804   41.8378   \n",
       "2000  10:30 AM - 11:00 PM  Collinsville    IL        62234   38.6835   \n",
       "\n",
       "      longitude  \n",
       "0     -149.7447  \n",
       "1     -149.8974  \n",
       "2     -149.8289  \n",
       "3     -149.7447  \n",
       "4     -149.9361  \n",
       "...         ...  \n",
       "1996   -87.5560  \n",
       "1997   -89.5068  \n",
       "1998   -87.7602  \n",
       "1999   -87.7602  \n",
       "2000   -89.9853  \n",
       "\n",
       "[2001 rows x 9 columns]"
      ]
     },
     "execution_count": 16,
     "metadata": {},
     "output_type": "execute_result"
    }
   ],
   "source": [
    "df"
   ]
  },
  {
   "cell_type": "markdown",
   "metadata": {},
   "source": [
    "1. Informasi yang didapatkan adalah<br>1. Jumlah record<br>2. Nama atribut<br>3. Jumlah atribut dengan tipe objek<br>4. Jumlah atribut dengan tipe angka<br>5. Jumlah atribut yang memiliki nilai null.<br><br>Masukkan informasi di atas dalam dictionary dengan key<br>sesuai nama informasinya. Tampilkan isi dari dictionary<br>tersebut sebagus mungkin"
   ]
  },
  {
   "cell_type": "code",
   "execution_count": 17,
   "metadata": {},
   "outputs": [
    {
     "data": {
      "text/plain": [
       "Jumlah Record                                                                    2001\n",
       "Nama Atribut                        Index(['type', 'address_1', 'address_2', 'open...\n",
       "Jumlah Atribut dengan Tipe Objek                                                    6\n",
       "Jumlah Atribut dengan Tipe Angka                                                    3\n",
       "Jumlah Atribut dengan Nilai NULL                                                    4\n",
       "dtype: object"
      ]
     },
     "execution_count": 17,
     "metadata": {},
     "output_type": "execute_result"
    }
   ],
   "source": [
    "jumlahRecord = len(df)\n",
    "namaAtribut = df.columns\n",
    "jumlahObjek = len(df.select_dtypes(include=['object']).columns)\n",
    "jumlahAngka = len(df.select_dtypes(include=['int64', 'float64']).columns)\n",
    "jumlahNULL = len(df.columns[df.isna().sum() > 0])\n",
    "\n",
    "dictionary = {\n",
    "    \"Jumlah Record\": jumlahRecord,\n",
    "    \"Nama Atribut\": namaAtribut,\n",
    "    \"Jumlah Atribut dengan Tipe Objek\": jumlahObjek,\n",
    "    \"Jumlah Atribut dengan Tipe Angka\": jumlahAngka,\n",
    "    \"Jumlah Atribut dengan Nilai NULL\": jumlahNULL,\n",
    "}\n",
    "\n",
    "pd.Series(dictionary)"
   ]
  },
  {
   "cell_type": "markdown",
   "metadata": {},
   "source": [
    "2. Tampilkan rata-rata, standar deviasi, nilai minimum, nilai<br>maksimum, Q1, Q2, dan Q3 dari attribute bertipe angka.\n"
   ]
  },
  {
   "cell_type": "markdown",
   "metadata": {},
   "source": [
    "Tampilkan Nilai rata-rata"
   ]
  },
  {
   "cell_type": "code",
   "execution_count": 18,
   "metadata": {},
   "outputs": [
    {
     "data": {
      "text/plain": [
       "postal_code    62117.436782\n",
       "latitude          33.760767\n",
       "longitude       -100.102487\n",
       "dtype: float64"
      ]
     },
     "execution_count": 18,
     "metadata": {},
     "output_type": "execute_result"
    }
   ],
   "source": [
    "df.select_dtypes(include=['int64', 'float64']).mean()"
   ]
  },
  {
   "cell_type": "markdown",
   "metadata": {},
   "source": [
    "Tampilkan Nilai Standar devisiasi"
   ]
  },
  {
   "cell_type": "code",
   "execution_count": 19,
   "metadata": {},
   "outputs": [
    {
     "data": {
      "text/plain": [
       "postal_code    27506.951350\n",
       "latitude           5.042706\n",
       "longitude         17.971120\n",
       "dtype: float64"
      ]
     },
     "execution_count": 19,
     "metadata": {},
     "output_type": "execute_result"
    }
   ],
   "source": [
    "df.select_dtypes(include=['int64', 'float64']).std()"
   ]
  },
  {
   "cell_type": "markdown",
   "metadata": {},
   "source": [
    "Tampilkan Nilai Minimum"
   ]
  },
  {
   "cell_type": "code",
   "execution_count": 20,
   "metadata": {},
   "outputs": [
    {
     "data": {
      "text/plain": [
       "postal_code    6037.0000\n",
       "latitude         19.5089\n",
       "longitude      -159.3683\n",
       "dtype: float64"
      ]
     },
     "execution_count": 20,
     "metadata": {},
     "output_type": "execute_result"
    }
   ],
   "source": [
    "df.select_dtypes(include=['int64', 'float64']).min()"
   ]
  },
  {
   "cell_type": "markdown",
   "metadata": {},
   "source": [
    "Tampilkan Nilai Maksimum"
   ]
  },
  {
   "cell_type": "code",
   "execution_count": 21,
   "metadata": {},
   "outputs": [
    {
     "data": {
      "text/plain": [
       "postal_code    99705.0000\n",
       "latitude          64.8378\n",
       "longitude        -75.4955\n",
       "dtype: float64"
      ]
     },
     "execution_count": 21,
     "metadata": {},
     "output_type": "execute_result"
    }
   ],
   "source": [
    "df.select_dtypes(include=['int64', 'float64']).max()"
   ]
  },
  {
   "cell_type": "markdown",
   "metadata": {},
   "source": [
    "Tampilkan Nilai Q1, Q2, dan Q3"
   ]
  },
  {
   "cell_type": "code",
   "execution_count": 22,
   "metadata": {},
   "outputs": [
    {
     "data": {
      "text/html": [
       "<div>\n",
       "<style scoped>\n",
       "    .dataframe tbody tr th:only-of-type {\n",
       "        vertical-align: middle;\n",
       "    }\n",
       "\n",
       "    .dataframe tbody tr th {\n",
       "        vertical-align: top;\n",
       "    }\n",
       "\n",
       "    .dataframe thead th {\n",
       "        text-align: right;\n",
       "    }\n",
       "</style>\n",
       "<table border=\"1\" class=\"dataframe\">\n",
       "  <thead>\n",
       "    <tr style=\"text-align: right;\">\n",
       "      <th></th>\n",
       "      <th>postal_code</th>\n",
       "      <th>latitude</th>\n",
       "      <th>longitude</th>\n",
       "    </tr>\n",
       "  </thead>\n",
       "  <tbody>\n",
       "    <tr>\n",
       "      <th>0.25</th>\n",
       "      <td>33155.0</td>\n",
       "      <td>30.72595</td>\n",
       "      <td>-117.437800</td>\n",
       "    </tr>\n",
       "    <tr>\n",
       "      <th>0.50</th>\n",
       "      <td>71854.0</td>\n",
       "      <td>33.82630</td>\n",
       "      <td>-93.422450</td>\n",
       "    </tr>\n",
       "    <tr>\n",
       "      <th>0.75</th>\n",
       "      <td>90807.0</td>\n",
       "      <td>35.60745</td>\n",
       "      <td>-83.724025</td>\n",
       "    </tr>\n",
       "  </tbody>\n",
       "</table>\n",
       "</div>"
      ],
      "text/plain": [
       "      postal_code  latitude   longitude\n",
       "0.25      33155.0  30.72595 -117.437800\n",
       "0.50      71854.0  33.82630  -93.422450\n",
       "0.75      90807.0  35.60745  -83.724025"
      ]
     },
     "execution_count": 22,
     "metadata": {},
     "output_type": "execute_result"
    }
   ],
   "source": [
    "df.select_dtypes(include=['int64', 'float64']).quantile([0.25,0.5,0.75])"
   ]
  },
  {
   "cell_type": "markdown",
   "metadata": {},
   "source": [
    "3. Tampilkan nilai korelasi attribute bertipe angka."
   ]
  },
  {
   "cell_type": "code",
   "execution_count": 23,
   "metadata": {},
   "outputs": [
    {
     "data": {
      "text/html": [
       "<div>\n",
       "<style scoped>\n",
       "    .dataframe tbody tr th:only-of-type {\n",
       "        vertical-align: middle;\n",
       "    }\n",
       "\n",
       "    .dataframe tbody tr th {\n",
       "        vertical-align: top;\n",
       "    }\n",
       "\n",
       "    .dataframe thead th {\n",
       "        text-align: right;\n",
       "    }\n",
       "</style>\n",
       "<table border=\"1\" class=\"dataframe\">\n",
       "  <thead>\n",
       "    <tr style=\"text-align: right;\">\n",
       "      <th></th>\n",
       "      <th>postal_code</th>\n",
       "      <th>latitude</th>\n",
       "      <th>longitude</th>\n",
       "    </tr>\n",
       "  </thead>\n",
       "  <tbody>\n",
       "    <tr>\n",
       "      <th>postal_code</th>\n",
       "      <td>1.000000</td>\n",
       "      <td>0.392117</td>\n",
       "      <td>-0.924682</td>\n",
       "    </tr>\n",
       "    <tr>\n",
       "      <th>latitude</th>\n",
       "      <td>0.392117</td>\n",
       "      <td>1.000000</td>\n",
       "      <td>-0.275440</td>\n",
       "    </tr>\n",
       "    <tr>\n",
       "      <th>longitude</th>\n",
       "      <td>-0.924682</td>\n",
       "      <td>-0.275440</td>\n",
       "      <td>1.000000</td>\n",
       "    </tr>\n",
       "  </tbody>\n",
       "</table>\n",
       "</div>"
      ],
      "text/plain": [
       "             postal_code  latitude  longitude\n",
       "postal_code     1.000000  0.392117  -0.924682\n",
       "latitude        0.392117  1.000000  -0.275440\n",
       "longitude      -0.924682 -0.275440   1.000000"
      ]
     },
     "execution_count": 23,
     "metadata": {},
     "output_type": "execute_result"
    }
   ],
   "source": [
    "df.select_dtypes(include=['int64', 'float64']).corr()"
   ]
  },
  {
   "cell_type": "markdown",
   "metadata": {},
   "source": [
    "4. Rubah nilai salah satu attribute bertipe angka dari desimal menjadi bilangan bulat).\n"
   ]
  },
  {
   "cell_type": "markdown",
   "metadata": {},
   "source": [
    "Dataset types"
   ]
  },
  {
   "cell_type": "code",
   "execution_count": 24,
   "metadata": {},
   "outputs": [
    {
     "data": {
      "text/plain": [
       "type            object\n",
       "address_1       object\n",
       "address_2       object\n",
       "open_hours      object\n",
       "city            object\n",
       "state           object\n",
       "postal_code      int64\n",
       "latitude       float64\n",
       "longitude      float64\n",
       "dtype: object"
      ]
     },
     "execution_count": 24,
     "metadata": {},
     "output_type": "execute_result"
    }
   ],
   "source": [
    "df.dtypes"
   ]
  },
  {
   "cell_type": "code",
   "execution_count": 25,
   "metadata": {},
   "outputs": [
    {
     "data": {
      "text/plain": [
       "type            object\n",
       "address_1       object\n",
       "address_2       object\n",
       "open_hours      object\n",
       "city            object\n",
       "state           object\n",
       "postal_code    float64\n",
       "latitude       float64\n",
       "longitude      float64\n",
       "dtype: object"
      ]
     },
     "execution_count": 25,
     "metadata": {},
     "output_type": "execute_result"
    }
   ],
   "source": [
    "df[\"postal_code\"] = df[\"postal_code\"].astype(\"float64\")\n",
    "df.dtypes"
   ]
  },
  {
   "cell_type": "markdown",
   "metadata": {},
   "source": [
    "5. Tampilkan 10 record pertama dari attribute bertipe angka."
   ]
  },
  {
   "cell_type": "code",
   "execution_count": 26,
   "metadata": {},
   "outputs": [
    {
     "data": {
      "text/html": [
       "<div>\n",
       "<style scoped>\n",
       "    .dataframe tbody tr th:only-of-type {\n",
       "        vertical-align: middle;\n",
       "    }\n",
       "\n",
       "    .dataframe tbody tr th {\n",
       "        vertical-align: top;\n",
       "    }\n",
       "\n",
       "    .dataframe thead th {\n",
       "        text-align: right;\n",
       "    }\n",
       "</style>\n",
       "<table border=\"1\" class=\"dataframe\">\n",
       "  <thead>\n",
       "    <tr style=\"text-align: right;\">\n",
       "      <th></th>\n",
       "      <th>postal_code</th>\n",
       "      <th>latitude</th>\n",
       "      <th>longitude</th>\n",
       "    </tr>\n",
       "  </thead>\n",
       "  <tbody>\n",
       "    <tr>\n",
       "      <th>0</th>\n",
       "      <td>99504.0</td>\n",
       "      <td>61.2037</td>\n",
       "      <td>-149.7447</td>\n",
       "    </tr>\n",
       "    <tr>\n",
       "      <th>1</th>\n",
       "      <td>99515.0</td>\n",
       "      <td>61.1194</td>\n",
       "      <td>-149.8974</td>\n",
       "    </tr>\n",
       "    <tr>\n",
       "      <th>2</th>\n",
       "      <td>99507.0</td>\n",
       "      <td>61.1535</td>\n",
       "      <td>-149.8289</td>\n",
       "    </tr>\n",
       "    <tr>\n",
       "      <th>3</th>\n",
       "      <td>99504.0</td>\n",
       "      <td>61.2037</td>\n",
       "      <td>-149.7447</td>\n",
       "    </tr>\n",
       "    <tr>\n",
       "      <th>4</th>\n",
       "      <td>99517.0</td>\n",
       "      <td>61.1901</td>\n",
       "      <td>-149.9361</td>\n",
       "    </tr>\n",
       "    <tr>\n",
       "      <th>5</th>\n",
       "      <td>99577.0</td>\n",
       "      <td>61.3114</td>\n",
       "      <td>-149.5085</td>\n",
       "    </tr>\n",
       "    <tr>\n",
       "      <th>6</th>\n",
       "      <td>99701.0</td>\n",
       "      <td>64.8378</td>\n",
       "      <td>-147.7164</td>\n",
       "    </tr>\n",
       "    <tr>\n",
       "      <th>7</th>\n",
       "      <td>99705.0</td>\n",
       "      <td>64.7805</td>\n",
       "      <td>-147.3694</td>\n",
       "    </tr>\n",
       "    <tr>\n",
       "      <th>8</th>\n",
       "      <td>99669.0</td>\n",
       "      <td>60.4818</td>\n",
       "      <td>-151.1358</td>\n",
       "    </tr>\n",
       "    <tr>\n",
       "      <th>9</th>\n",
       "      <td>99654.0</td>\n",
       "      <td>61.5923</td>\n",
       "      <td>-149.3959</td>\n",
       "    </tr>\n",
       "  </tbody>\n",
       "</table>\n",
       "</div>"
      ],
      "text/plain": [
       "   postal_code  latitude  longitude\n",
       "0      99504.0   61.2037  -149.7447\n",
       "1      99515.0   61.1194  -149.8974\n",
       "2      99507.0   61.1535  -149.8289\n",
       "3      99504.0   61.2037  -149.7447\n",
       "4      99517.0   61.1901  -149.9361\n",
       "5      99577.0   61.3114  -149.5085\n",
       "6      99701.0   64.8378  -147.7164\n",
       "7      99705.0   64.7805  -147.3694\n",
       "8      99669.0   60.4818  -151.1358\n",
       "9      99654.0   61.5923  -149.3959"
      ]
     },
     "execution_count": 26,
     "metadata": {},
     "output_type": "execute_result"
    }
   ],
   "source": [
    "df.select_dtypes(include=['int64', 'float64']).head(10)"
   ]
  },
  {
   "cell_type": "markdown",
   "metadata": {},
   "source": [
    "6. Simpan dataset dengan attribute bertipe angka ke dalam file CSV."
   ]
  },
  {
   "cell_type": "code",
   "execution_count": 27,
   "metadata": {},
   "outputs": [],
   "source": [
    "df.select_dtypes(include=['int64', 'float64']).to_csv(\"Pizza_hut_locations-angka.csv\", index=False)"
   ]
  }
 ],
 "metadata": {
  "kernelspec": {
   "display_name": "Python 3.10.7 64-bit",
   "language": "python",
   "name": "python3"
  },
  "language_info": {
   "codemirror_mode": {
    "name": "ipython",
    "version": 3
   },
   "file_extension": ".py",
   "mimetype": "text/x-python",
   "name": "python",
   "nbconvert_exporter": "python",
   "pygments_lexer": "ipython3",
   "version": "3.10.7"
  },
  "orig_nbformat": 4,
  "vscode": {
   "interpreter": {
    "hash": "27f6fea6f47ae512550f0b8facdbd035a93e1dd89633f7bf2dd00a2502c71d0d"
   }
  }
 },
 "nbformat": 4,
 "nbformat_minor": 2
}
