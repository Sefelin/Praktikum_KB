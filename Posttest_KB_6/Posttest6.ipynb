{
 "cells": [
  {
   "cell_type": "markdown",
   "metadata": {},
   "source": [
    "# Posttest 6\n",
    "\n",
    "Sefelin Nada Para'pak <br>\n",
    "2009106074"
   ]
  },
  {
   "cell_type": "markdown",
   "metadata": {},
   "source": [
    "### Import Package"
   ]
  },
  {
   "cell_type": "code",
   "execution_count": 1,
   "metadata": {},
   "outputs": [],
   "source": [
    "import matplotlib.pyplot as plt\n",
    "import seaborn as sns\n",
    "import pandas as pd\n",
    "import numpy as np\n",
    "from sklearn.impute import SimpleImputer\n",
    "from sklearn.cluster import KMeans"
   ]
  },
  {
   "cell_type": "markdown",
   "metadata": {},
   "source": [
    "### Read Dataset"
   ]
  },
  {
   "cell_type": "code",
   "execution_count": 7,
   "metadata": {},
   "outputs": [
    {
     "data": {
      "text/html": [
       "<div>\n",
       "<style scoped>\n",
       "    .dataframe tbody tr th:only-of-type {\n",
       "        vertical-align: middle;\n",
       "    }\n",
       "\n",
       "    .dataframe tbody tr th {\n",
       "        vertical-align: top;\n",
       "    }\n",
       "\n",
       "    .dataframe thead th {\n",
       "        text-align: right;\n",
       "    }\n",
       "</style>\n",
       "<table border=\"1\" class=\"dataframe\">\n",
       "  <thead>\n",
       "    <tr style=\"text-align: right;\">\n",
       "      <th></th>\n",
       "      <th>spotify_id</th>\n",
       "      <th>name</th>\n",
       "      <th>followers</th>\n",
       "      <th>popularity</th>\n",
       "      <th>genres</th>\n",
       "      <th>chart_hits</th>\n",
       "    </tr>\n",
       "  </thead>\n",
       "  <tbody>\n",
       "    <tr>\n",
       "      <th>0</th>\n",
       "      <td>48WvrUGoijadXXCsGocwM4</td>\n",
       "      <td>Byklubben</td>\n",
       "      <td>1738.0</td>\n",
       "      <td>24</td>\n",
       "      <td>['nordic house', 'russelater']</td>\n",
       "      <td>['no (3)']</td>\n",
       "    </tr>\n",
       "    <tr>\n",
       "      <th>1</th>\n",
       "      <td>4lDiJcOJ2GLCK6p9q5BgfK</td>\n",
       "      <td>Kontra K</td>\n",
       "      <td>1999676.0</td>\n",
       "      <td>72</td>\n",
       "      <td>['christlicher rap', 'german hip hop']</td>\n",
       "      <td>['at (44)', 'de (111)', 'lu (22)', 'ch (31)', ...</td>\n",
       "    </tr>\n",
       "    <tr>\n",
       "      <th>2</th>\n",
       "      <td>652XIvIBNGg3C0KIGEJWit</td>\n",
       "      <td>Maxim</td>\n",
       "      <td>34596.0</td>\n",
       "      <td>36</td>\n",
       "      <td>[]</td>\n",
       "      <td>['de (1)']</td>\n",
       "    </tr>\n",
       "    <tr>\n",
       "      <th>3</th>\n",
       "      <td>3dXC1YPbnQPsfHPVkm1ipj</td>\n",
       "      <td>Christopher Martin</td>\n",
       "      <td>249233.0</td>\n",
       "      <td>52</td>\n",
       "      <td>['dancehall', 'lovers rock', 'modern reggae', ...</td>\n",
       "      <td>['at (1)', 'de (1)']</td>\n",
       "    </tr>\n",
       "    <tr>\n",
       "      <th>4</th>\n",
       "      <td>74terC9ol9zMo8rfzhSOiG</td>\n",
       "      <td>Jakob Hellman</td>\n",
       "      <td>21193.0</td>\n",
       "      <td>39</td>\n",
       "      <td>['classic swedish pop', 'norrbotten indie', 's...</td>\n",
       "      <td>['se (6)']</td>\n",
       "    </tr>\n",
       "  </tbody>\n",
       "</table>\n",
       "</div>"
      ],
      "text/plain": [
       "               spotify_id                name  followers  popularity  \\\n",
       "0  48WvrUGoijadXXCsGocwM4           Byklubben     1738.0          24   \n",
       "1  4lDiJcOJ2GLCK6p9q5BgfK            Kontra K  1999676.0          72   \n",
       "2  652XIvIBNGg3C0KIGEJWit               Maxim    34596.0          36   \n",
       "3  3dXC1YPbnQPsfHPVkm1ipj  Christopher Martin   249233.0          52   \n",
       "4  74terC9ol9zMo8rfzhSOiG       Jakob Hellman    21193.0          39   \n",
       "\n",
       "                                              genres  \\\n",
       "0                     ['nordic house', 'russelater']   \n",
       "1             ['christlicher rap', 'german hip hop']   \n",
       "2                                                 []   \n",
       "3  ['dancehall', 'lovers rock', 'modern reggae', ...   \n",
       "4  ['classic swedish pop', 'norrbotten indie', 's...   \n",
       "\n",
       "                                          chart_hits  \n",
       "0                                         ['no (3)']  \n",
       "1  ['at (44)', 'de (111)', 'lu (22)', 'ch (31)', ...  \n",
       "2                                         ['de (1)']  \n",
       "3                               ['at (1)', 'de (1)']  \n",
       "4                                         ['se (6)']  "
      ]
     },
     "execution_count": 7,
     "metadata": {},
     "output_type": "execute_result"
    }
   ],
   "source": [
    "df = pd.read_csv(\"nodes.csv\")\n",
    "df.head()"
   ]
  },
  {
   "cell_type": "code",
   "execution_count": 8,
   "metadata": {},
   "outputs": [
    {
     "name": "stdout",
     "output_type": "stream",
     "text": [
      "<class 'pandas.core.frame.DataFrame'>\n",
      "RangeIndex: 156422 entries, 0 to 156421\n",
      "Data columns (total 6 columns):\n",
      " #   Column      Non-Null Count   Dtype  \n",
      "---  ------      --------------   -----  \n",
      " 0   spotify_id  156422 non-null  object \n",
      " 1   name        156418 non-null  object \n",
      " 2   followers   156418 non-null  float64\n",
      " 3   popularity  156422 non-null  int64  \n",
      " 4   genres      156422 non-null  object \n",
      " 5   chart_hits  19641 non-null   object \n",
      "dtypes: float64(1), int64(1), object(4)\n",
      "memory usage: 7.2+ MB\n"
     ]
    }
   ],
   "source": [
    "df.info()"
   ]
  },
  {
   "cell_type": "code",
   "execution_count": 21,
   "metadata": {},
   "outputs": [
    {
     "data": {
      "text/plain": [
       "spotify_id         0\n",
       "name               4\n",
       "followers          4\n",
       "popularity         0\n",
       "genres             0\n",
       "chart_hits    136781\n",
       "dtype: int64"
      ]
     },
     "execution_count": 21,
     "metadata": {},
     "output_type": "execute_result"
    }
   ],
   "source": [
    "df.isna().sum()"
   ]
  },
  {
   "cell_type": "markdown",
   "metadata": {},
   "source": [
    "## Data Cleaning"
   ]
  },
  {
   "cell_type": "code",
   "execution_count": 18,
   "metadata": {},
   "outputs": [],
   "source": [
    "dataset_cleaning = df.copy()"
   ]
  },
  {
   "cell_type": "code",
   "execution_count": 19,
   "metadata": {},
   "outputs": [],
   "source": [
    "imputer_mean = SimpleImputer(strategy='mean')\n",
    "imputer_median = SimpleImputer(strategy='median')\n",
    "imputer_modus = SimpleImputer(strategy='most_frequent')"
   ]
  },
  {
   "cell_type": "markdown",
   "metadata": {},
   "source": [
    "##  Mean"
   ]
  },
  {
   "cell_type": "code",
   "execution_count": 20,
   "metadata": {},
   "outputs": [
    {
     "data": {
      "text/plain": [
       "spotify_id         0\n",
       "name               4\n",
       "followers          0\n",
       "popularity         0\n",
       "genres             0\n",
       "chart_hits    136781\n",
       "dtype: int64"
      ]
     },
     "execution_count": 20,
     "metadata": {},
     "output_type": "execute_result"
    }
   ],
   "source": [
    "dataset_cleaning['followers'] = imputer_mean.fit_transform(dataset_cleaning[['followers']])\n",
    "\n",
    "dataset_cleaning.isna().sum()"
   ]
  },
  {
   "cell_type": "markdown",
   "metadata": {},
   "source": [
    "## Modus"
   ]
  },
  {
   "cell_type": "code",
   "execution_count": 23,
   "metadata": {},
   "outputs": [
    {
     "data": {
      "text/plain": [
       "spotify_id    0\n",
       "name          0\n",
       "followers     0\n",
       "popularity    0\n",
       "genres        0\n",
       "chart_hits    0\n",
       "dtype: int64"
      ]
     },
     "execution_count": 23,
     "metadata": {},
     "output_type": "execute_result"
    }
   ],
   "source": [
    "dataset_cleaning['name'] = imputer_modus.fit_transform(dataset_cleaning[['name']])\n",
    "dataset_cleaning['chart_hits'] = imputer_modus.fit_transform(dataset_cleaning[['chart_hits']])\n",
    "\n",
    "dataset_cleaning.isna().sum()"
   ]
  },
  {
   "cell_type": "markdown",
   "metadata": {},
   "source": [
    "##  Median Nilai Tengah\n",
    "\n",
    "\n"
   ]
  },
  {
   "cell_type": "code",
   "execution_count": 24,
   "metadata": {},
   "outputs": [
    {
     "data": {
      "text/plain": [
       "spotify_id    0\n",
       "name          0\n",
       "followers     0\n",
       "popularity    0\n",
       "genres        0\n",
       "chart_hits    0\n",
       "dtype: int64"
      ]
     },
     "execution_count": 24,
     "metadata": {},
     "output_type": "execute_result"
    }
   ],
   "source": [
    "dataset_cleaning['popularity'] = imputer_median.fit_transform(dataset_cleaning[['popularity']])\n",
    "\n",
    "dataset_cleaning.isna().sum()"
   ]
  },
  {
   "cell_type": "code",
   "execution_count": 25,
   "metadata": {},
   "outputs": [
    {
     "data": {
      "text/plain": [
       "spotify_id    0\n",
       "name          0\n",
       "followers     0\n",
       "popularity    0\n",
       "genres        0\n",
       "chart_hits    0\n",
       "dtype: int64"
      ]
     },
     "execution_count": 25,
     "metadata": {},
     "output_type": "execute_result"
    }
   ],
   "source": [
    "dataset_cleaning.dropna(inplace=True)\n",
    "dataset_cleaning.isna().sum()"
   ]
  },
  {
   "cell_type": "code",
   "execution_count": 26,
   "metadata": {},
   "outputs": [
    {
     "data": {
      "text/plain": [
       "156422"
      ]
     },
     "execution_count": 26,
     "metadata": {},
     "output_type": "execute_result"
    }
   ],
   "source": [
    "len(dataset_cleaning)\n"
   ]
  },
  {
   "cell_type": "markdown",
   "metadata": {},
   "source": [
    "## Data Duplikat"
   ]
  },
  {
   "cell_type": "code",
   "execution_count": 27,
   "metadata": {},
   "outputs": [
    {
     "data": {
      "text/plain": [
       "0"
      ]
     },
     "execution_count": 27,
     "metadata": {},
     "output_type": "execute_result"
    }
   ],
   "source": [
    "dataset_duplicate = df.copy()\n",
    "dataset_duplicate.duplicated().sum()"
   ]
  },
  {
   "cell_type": "code",
   "execution_count": 28,
   "metadata": {},
   "outputs": [
    {
     "data": {
      "text/plain": [
       "0"
      ]
     },
     "execution_count": 28,
     "metadata": {},
     "output_type": "execute_result"
    }
   ],
   "source": [
    "dataset_duplicate.drop_duplicates(inplace=True)\n",
    "dataset_duplicate.duplicated().sum()"
   ]
  },
  {
   "cell_type": "markdown",
   "metadata": {},
   "source": [
    "## K-MEANS"
   ]
  },
  {
   "cell_type": "code",
   "execution_count": 29,
   "metadata": {},
   "outputs": [
    {
     "data": {
      "text/html": [
       "<div>\n",
       "<style scoped>\n",
       "    .dataframe tbody tr th:only-of-type {\n",
       "        vertical-align: middle;\n",
       "    }\n",
       "\n",
       "    .dataframe tbody tr th {\n",
       "        vertical-align: top;\n",
       "    }\n",
       "\n",
       "    .dataframe thead th {\n",
       "        text-align: right;\n",
       "    }\n",
       "</style>\n",
       "<table border=\"1\" class=\"dataframe\">\n",
       "  <thead>\n",
       "    <tr style=\"text-align: right;\">\n",
       "      <th></th>\n",
       "      <th>spotify_id</th>\n",
       "      <th>name</th>\n",
       "      <th>followers</th>\n",
       "      <th>popularity</th>\n",
       "      <th>genres</th>\n",
       "      <th>chart_hits</th>\n",
       "    </tr>\n",
       "  </thead>\n",
       "  <tbody>\n",
       "    <tr>\n",
       "      <th>0</th>\n",
       "      <td>48WvrUGoijadXXCsGocwM4</td>\n",
       "      <td>Byklubben</td>\n",
       "      <td>1738.0</td>\n",
       "      <td>24.0</td>\n",
       "      <td>['nordic house', 'russelater']</td>\n",
       "      <td>['no (3)']</td>\n",
       "    </tr>\n",
       "    <tr>\n",
       "      <th>1</th>\n",
       "      <td>4lDiJcOJ2GLCK6p9q5BgfK</td>\n",
       "      <td>Kontra K</td>\n",
       "      <td>1999676.0</td>\n",
       "      <td>72.0</td>\n",
       "      <td>['christlicher rap', 'german hip hop']</td>\n",
       "      <td>['at (44)', 'de (111)', 'lu (22)', 'ch (31)', ...</td>\n",
       "    </tr>\n",
       "    <tr>\n",
       "      <th>2</th>\n",
       "      <td>652XIvIBNGg3C0KIGEJWit</td>\n",
       "      <td>Maxim</td>\n",
       "      <td>34596.0</td>\n",
       "      <td>36.0</td>\n",
       "      <td>[]</td>\n",
       "      <td>['de (1)']</td>\n",
       "    </tr>\n",
       "    <tr>\n",
       "      <th>3</th>\n",
       "      <td>3dXC1YPbnQPsfHPVkm1ipj</td>\n",
       "      <td>Christopher Martin</td>\n",
       "      <td>249233.0</td>\n",
       "      <td>52.0</td>\n",
       "      <td>['dancehall', 'lovers rock', 'modern reggae', ...</td>\n",
       "      <td>['at (1)', 'de (1)']</td>\n",
       "    </tr>\n",
       "    <tr>\n",
       "      <th>4</th>\n",
       "      <td>74terC9ol9zMo8rfzhSOiG</td>\n",
       "      <td>Jakob Hellman</td>\n",
       "      <td>21193.0</td>\n",
       "      <td>39.0</td>\n",
       "      <td>['classic swedish pop', 'norrbotten indie', 's...</td>\n",
       "      <td>['se (6)']</td>\n",
       "    </tr>\n",
       "    <tr>\n",
       "      <th>...</th>\n",
       "      <td>...</td>\n",
       "      <td>...</td>\n",
       "      <td>...</td>\n",
       "      <td>...</td>\n",
       "      <td>...</td>\n",
       "      <td>...</td>\n",
       "    </tr>\n",
       "    <tr>\n",
       "      <th>156417</th>\n",
       "      <td>2ces6d2YsQP1RpGMYpdFy8</td>\n",
       "      <td>David Urwitz</td>\n",
       "      <td>5470.0</td>\n",
       "      <td>29.0</td>\n",
       "      <td>['classic swedish pop']</td>\n",
       "      <td>['se (1)']</td>\n",
       "    </tr>\n",
       "    <tr>\n",
       "      <th>156418</th>\n",
       "      <td>6AeznZajNbXUulT7W4tK5l</td>\n",
       "      <td>Darmiko</td>\n",
       "      <td>2022.0</td>\n",
       "      <td>23.0</td>\n",
       "      <td>[]</td>\n",
       "      <td>['se (1)']</td>\n",
       "    </tr>\n",
       "    <tr>\n",
       "      <th>156419</th>\n",
       "      <td>3GEijIjrgb4lPe9WtURBzz</td>\n",
       "      <td>Katriell</td>\n",
       "      <td>268.0</td>\n",
       "      <td>0.0</td>\n",
       "      <td>[]</td>\n",
       "      <td>['se (1)']</td>\n",
       "    </tr>\n",
       "    <tr>\n",
       "      <th>156420</th>\n",
       "      <td>0ldQL0icSoMz9OOZcWG8Zt</td>\n",
       "      <td>Yung Fresh</td>\n",
       "      <td>181.0</td>\n",
       "      <td>19.0</td>\n",
       "      <td>[]</td>\n",
       "      <td>['se (1)']</td>\n",
       "    </tr>\n",
       "    <tr>\n",
       "      <th>156421</th>\n",
       "      <td>1QZqarAGs0Lxx495oNcBnZ</td>\n",
       "      <td>Rakshitha Rao</td>\n",
       "      <td>23.0</td>\n",
       "      <td>24.0</td>\n",
       "      <td>[]</td>\n",
       "      <td>['se (1)']</td>\n",
       "    </tr>\n",
       "  </tbody>\n",
       "</table>\n",
       "<p>156422 rows × 6 columns</p>\n",
       "</div>"
      ],
      "text/plain": [
       "                    spotify_id                name  followers  popularity  \\\n",
       "0       48WvrUGoijadXXCsGocwM4           Byklubben     1738.0        24.0   \n",
       "1       4lDiJcOJ2GLCK6p9q5BgfK            Kontra K  1999676.0        72.0   \n",
       "2       652XIvIBNGg3C0KIGEJWit               Maxim    34596.0        36.0   \n",
       "3       3dXC1YPbnQPsfHPVkm1ipj  Christopher Martin   249233.0        52.0   \n",
       "4       74terC9ol9zMo8rfzhSOiG       Jakob Hellman    21193.0        39.0   \n",
       "...                        ...                 ...        ...         ...   \n",
       "156417  2ces6d2YsQP1RpGMYpdFy8        David Urwitz     5470.0        29.0   \n",
       "156418  6AeznZajNbXUulT7W4tK5l             Darmiko     2022.0        23.0   \n",
       "156419  3GEijIjrgb4lPe9WtURBzz            Katriell      268.0         0.0   \n",
       "156420  0ldQL0icSoMz9OOZcWG8Zt          Yung Fresh      181.0        19.0   \n",
       "156421  1QZqarAGs0Lxx495oNcBnZ       Rakshitha Rao       23.0        24.0   \n",
       "\n",
       "                                                   genres  \\\n",
       "0                          ['nordic house', 'russelater']   \n",
       "1                  ['christlicher rap', 'german hip hop']   \n",
       "2                                                      []   \n",
       "3       ['dancehall', 'lovers rock', 'modern reggae', ...   \n",
       "4       ['classic swedish pop', 'norrbotten indie', 's...   \n",
       "...                                                   ...   \n",
       "156417                            ['classic swedish pop']   \n",
       "156418                                                 []   \n",
       "156419                                                 []   \n",
       "156420                                                 []   \n",
       "156421                                                 []   \n",
       "\n",
       "                                               chart_hits  \n",
       "0                                              ['no (3)']  \n",
       "1       ['at (44)', 'de (111)', 'lu (22)', 'ch (31)', ...  \n",
       "2                                              ['de (1)']  \n",
       "3                                    ['at (1)', 'de (1)']  \n",
       "4                                              ['se (6)']  \n",
       "...                                                   ...  \n",
       "156417                                         ['se (1)']  \n",
       "156418                                         ['se (1)']  \n",
       "156419                                         ['se (1)']  \n",
       "156420                                         ['se (1)']  \n",
       "156421                                         ['se (1)']  \n",
       "\n",
       "[156422 rows x 6 columns]"
      ]
     },
     "execution_count": 29,
     "metadata": {},
     "output_type": "execute_result"
    }
   ],
   "source": [
    "dataset_cleaning"
   ]
  },
  {
   "cell_type": "code",
   "execution_count": 30,
   "metadata": {},
   "outputs": [],
   "source": [
    "dataset_model = KMeans(n_clusters=4)"
   ]
  },
  {
   "cell_type": "code",
   "execution_count": 31,
   "metadata": {},
   "outputs": [],
   "source": [
    "point = dataset_cleaning[['popularity','followers']]"
   ]
  },
  {
   "cell_type": "code",
   "execution_count": 32,
   "metadata": {},
   "outputs": [
    {
     "data": {
      "text/html": [
       "<style>#sk-container-id-1 {color: black;background-color: white;}#sk-container-id-1 pre{padding: 0;}#sk-container-id-1 div.sk-toggleable {background-color: white;}#sk-container-id-1 label.sk-toggleable__label {cursor: pointer;display: block;width: 100%;margin-bottom: 0;padding: 0.3em;box-sizing: border-box;text-align: center;}#sk-container-id-1 label.sk-toggleable__label-arrow:before {content: \"▸\";float: left;margin-right: 0.25em;color: #696969;}#sk-container-id-1 label.sk-toggleable__label-arrow:hover:before {color: black;}#sk-container-id-1 div.sk-estimator:hover label.sk-toggleable__label-arrow:before {color: black;}#sk-container-id-1 div.sk-toggleable__content {max-height: 0;max-width: 0;overflow: hidden;text-align: left;background-color: #f0f8ff;}#sk-container-id-1 div.sk-toggleable__content pre {margin: 0.2em;color: black;border-radius: 0.25em;background-color: #f0f8ff;}#sk-container-id-1 input.sk-toggleable__control:checked~div.sk-toggleable__content {max-height: 200px;max-width: 100%;overflow: auto;}#sk-container-id-1 input.sk-toggleable__control:checked~label.sk-toggleable__label-arrow:before {content: \"▾\";}#sk-container-id-1 div.sk-estimator input.sk-toggleable__control:checked~label.sk-toggleable__label {background-color: #d4ebff;}#sk-container-id-1 div.sk-label input.sk-toggleable__control:checked~label.sk-toggleable__label {background-color: #d4ebff;}#sk-container-id-1 input.sk-hidden--visually {border: 0;clip: rect(1px 1px 1px 1px);clip: rect(1px, 1px, 1px, 1px);height: 1px;margin: -1px;overflow: hidden;padding: 0;position: absolute;width: 1px;}#sk-container-id-1 div.sk-estimator {font-family: monospace;background-color: #f0f8ff;border: 1px dotted black;border-radius: 0.25em;box-sizing: border-box;margin-bottom: 0.5em;}#sk-container-id-1 div.sk-estimator:hover {background-color: #d4ebff;}#sk-container-id-1 div.sk-parallel-item::after {content: \"\";width: 100%;border-bottom: 1px solid gray;flex-grow: 1;}#sk-container-id-1 div.sk-label:hover label.sk-toggleable__label {background-color: #d4ebff;}#sk-container-id-1 div.sk-serial::before {content: \"\";position: absolute;border-left: 1px solid gray;box-sizing: border-box;top: 0;bottom: 0;left: 50%;z-index: 0;}#sk-container-id-1 div.sk-serial {display: flex;flex-direction: column;align-items: center;background-color: white;padding-right: 0.2em;padding-left: 0.2em;position: relative;}#sk-container-id-1 div.sk-item {position: relative;z-index: 1;}#sk-container-id-1 div.sk-parallel {display: flex;align-items: stretch;justify-content: center;background-color: white;position: relative;}#sk-container-id-1 div.sk-item::before, #sk-container-id-1 div.sk-parallel-item::before {content: \"\";position: absolute;border-left: 1px solid gray;box-sizing: border-box;top: 0;bottom: 0;left: 50%;z-index: -1;}#sk-container-id-1 div.sk-parallel-item {display: flex;flex-direction: column;z-index: 1;position: relative;background-color: white;}#sk-container-id-1 div.sk-parallel-item:first-child::after {align-self: flex-end;width: 50%;}#sk-container-id-1 div.sk-parallel-item:last-child::after {align-self: flex-start;width: 50%;}#sk-container-id-1 div.sk-parallel-item:only-child::after {width: 0;}#sk-container-id-1 div.sk-dashed-wrapped {border: 1px dashed gray;margin: 0 0.4em 0.5em 0.4em;box-sizing: border-box;padding-bottom: 0.4em;background-color: white;}#sk-container-id-1 div.sk-label label {font-family: monospace;font-weight: bold;display: inline-block;line-height: 1.2em;}#sk-container-id-1 div.sk-label-container {text-align: center;}#sk-container-id-1 div.sk-container {/* jupyter's `normalize.less` sets `[hidden] { display: none; }` but bootstrap.min.css set `[hidden] { display: none !important; }` so we also need the `!important` here to be able to override the default hidden behavior on the sphinx rendered scikit-learn.org. See: https://github.com/scikit-learn/scikit-learn/issues/21755 */display: inline-block !important;position: relative;}#sk-container-id-1 div.sk-text-repr-fallback {display: none;}</style><div id=\"sk-container-id-1\" class=\"sk-top-container\"><div class=\"sk-text-repr-fallback\"><pre>KMeans(n_clusters=4)</pre><b>In a Jupyter environment, please rerun this cell to show the HTML representation or trust the notebook. <br />On GitHub, the HTML representation is unable to render, please try loading this page with nbviewer.org.</b></div><div class=\"sk-container\" hidden><div class=\"sk-item\"><div class=\"sk-estimator sk-toggleable\"><input class=\"sk-toggleable__control sk-hidden--visually\" id=\"sk-estimator-id-1\" type=\"checkbox\" checked><label for=\"sk-estimator-id-1\" class=\"sk-toggleable__label sk-toggleable__label-arrow\">KMeans</label><div class=\"sk-toggleable__content\"><pre>KMeans(n_clusters=4)</pre></div></div></div></div></div>"
      ],
      "text/plain": [
       "KMeans(n_clusters=4)"
      ]
     },
     "execution_count": 32,
     "metadata": {},
     "output_type": "execute_result"
    }
   ],
   "source": [
    "dataset_model.fit(point)"
   ]
  },
  {
   "cell_type": "code",
   "execution_count": 33,
   "metadata": {},
   "outputs": [
    {
     "data": {
      "text/plain": [
       "array([0, 0, 0, ..., 0, 0, 0])"
      ]
     },
     "execution_count": 33,
     "metadata": {},
     "output_type": "execute_result"
    }
   ],
   "source": [
    "labels = dataset_model.labels_\n",
    "labels"
   ]
  },
  {
   "cell_type": "code",
   "execution_count": 34,
   "metadata": {},
   "outputs": [],
   "source": [
    "nilai_x = point['popularity']\n",
    "nilai_y = point['followers']"
   ]
  },
  {
   "cell_type": "code",
   "execution_count": 35,
   "metadata": {},
   "outputs": [],
   "source": [
    "data_centroid = dataset_model.cluster_centers_"
   ]
  },
  {
   "cell_type": "code",
   "execution_count": 36,
   "metadata": {},
   "outputs": [
    {
     "data": {
      "text/plain": [
       "array([[2.08711537e+01, 4.23253658e+04],\n",
       "       [8.31428571e+01, 2.49303502e+07],\n",
       "       [7.23894737e+01, 5.54086424e+06],\n",
       "       [9.10000000e+01, 6.43256423e+07]])"
      ]
     },
     "execution_count": 36,
     "metadata": {},
     "output_type": "execute_result"
    }
   ],
   "source": [
    "data_centroid"
   ]
  },
  {
   "cell_type": "code",
   "execution_count": 37,
   "metadata": {},
   "outputs": [],
   "source": [
    "centroid_xc = data_centroid[:,0]\n",
    "centroid_yc = data_centroid[:,1]"
   ]
  },
  {
   "cell_type": "markdown",
   "metadata": {},
   "source": [
    "## Visualisasi"
   ]
  },
  {
   "cell_type": "code",
   "execution_count": 38,
   "metadata": {},
   "outputs": [
    {
     "data": {
      "image/png": "[encoded data removed]",
      "text/plain": [
       "<Figure size 1000x1000 with 1 Axes>"
      ]
     },
     "metadata": {},
     "output_type": "display_data"
    }
   ],
   "source": [
    "plt.figure(figsize=(10,10))\n",
    "plt.scatter(nilai_x, nilai_y, alpha=0.5, c=labels)\n",
    "plt.scatter(centroid_xc, centroid_yc, marker='D', s=50, label='Centroid')\n",
    "plt.xlabel('popularity')\n",
    "plt.ylabel('followers')\n",
    "plt.legend()\n",
    "plt.show()"
   ]
  },
  {
   "cell_type": "code",
   "execution_count": 39,
   "metadata": {},
   "outputs": [],
   "source": [
    "cluster_range = range(1,8)\n",
    "inertias = []\n",
    "for k in cluster_range:\n",
    "    dataset_model = KMeans(n_clusters=k)\n",
    "    dataset_model.fit(point)\n",
    "    inertias.append(dataset_model.inertia_)"
   ]
  },
  {
   "cell_type": "code",
   "execution_count": 40,
   "metadata": {},
   "outputs": [
    {
     "data": {
      "image/png": "[encoded data removed]",
      "text/plain": [
       "<Figure size 1000x1000 with 1 Axes>"
      ]
     },
     "metadata": {},
     "output_type": "display_data"
    }
   ],
   "source": [
    "plt.figure(figsize=(10,10))\n",
    "plt.plot(cluster_range, inertias, '-o')\n",
    "plt.xlabel('Cluster ')\n",
    "plt.ylabel('Sum Square Error')\n",
    "plt.xticks(cluster_range)\n",
    "plt.show()"
   ]
  },
  {
   "cell_type": "code",
   "execution_count": 41,
   "metadata": {},
   "outputs": [],
   "source": [
    "df.to_csv(\"nodesUnsupervised.csv\")"
   ]
  }
 ],
 "metadata": {
  "kernelspec": {
   "display_name": "Python 3.10.7 64-bit",
   "language": "python",
   "name": "python3"
  },
  "language_info": {
   "codemirror_mode": {
    "name": "ipython",
    "version": 3
   },
   "file_extension": ".py",
   "mimetype": "text/x-python",
   "name": "python",
   "nbconvert_exporter": "python",
   "pygments_lexer": "ipython3",
   "version": "3.10.7"
  },
  "orig_nbformat": 4,
  "vscode": {
   "interpreter": {
    "hash": "27f6fea6f47ae512550f0b8facdbd035a93e1dd89633f7bf2dd00a2502c71d0d"
   }
  }
 },
 "nbformat": 4,
 "nbformat_minor": 2
}
